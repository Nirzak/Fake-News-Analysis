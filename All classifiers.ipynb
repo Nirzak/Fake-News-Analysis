{
 "cells": [
  {
   "cell_type": "code",
   "execution_count": 23,
   "metadata": {},
   "outputs": [],
   "source": [
    "import os\n",
    "import pandas as pd\n",
    "import re\n",
    "import numpy as np\n",
    "from nltk.util import ngrams\n",
    "from sklearn.feature_extraction.text import CountVectorizer, TfidfVectorizer\n",
    "from sklearn.model_selection import train_test_split\n",
    "from sklearn import metrics\n",
    "from sklearn import svm\n",
    "from nltk.corpus import stopwords\n",
    "from scipy import sparse, hstack, vstack\n",
    "from sklearn.linear_model import LogisticRegression\n",
    "from sklearn.naive_bayes import MultinomialNB\n",
    "from sklearn.linear_model import PassiveAggressiveClassifier\n",
    "from xgboost import XGBClassifier\n",
    "from sklearn.linear_model import PassiveAggressiveClassifier\n",
    "from sklearn.ensemble import AdaBoostClassifier\n",
    "from catboost import CatBoostClassifier\n",
    "import pickle\n",
    "import string"
   ]
  },
  {
   "cell_type": "code",
   "execution_count": 2,
   "metadata": {},
   "outputs": [],
   "source": [
    "#importing stopwords\n",
    "STOP_WORDS = stopwords.words('bengali')"
   ]
  },
  {
   "cell_type": "code",
   "execution_count": 3,
   "metadata": {},
   "outputs": [],
   "source": [
    "#striping punctuations\n",
    "puncList = [\"।\", \"”\", \"“\", \"’\"]\n",
    "for p in string.punctuation.lstrip():\n",
    "    puncList.append(p)"
   ]
  },
  {
   "cell_type": "code",
   "execution_count": 4,
   "metadata": {},
   "outputs": [],
   "source": [
    "#word tokenizer\n",
    "def tokenizer(doc):\n",
    "    # remove punctuation\n",
    "    tokens = []\n",
    "    def cleanword(word):\n",
    "        for p in puncList:\n",
    "            word = word.replace(p, \"\")\n",
    "        word = re.sub(r'[\\u09E6-\\u09EF]', \"\", word, re.DEBUG)  # replace digits\n",
    "\n",
    "        return word\n",
    "\n",
    "    for word in doc.split(\" \"):\n",
    "        word = cleanword(word)\n",
    "        if word != \"\":\n",
    "            tokens.append(word)\n",
    "\n",
    "    return tokens"
   ]
  },
  {
   "cell_type": "code",
   "execution_count": 5,
   "metadata": {},
   "outputs": [],
   "source": [
    "#tf-idf vectorizer\n",
    "\n",
    "def tfidf_wordF(X):\n",
    "    tfidf_word = TfidfVectorizer(sublinear_tf=True, min_df=5, norm='l2', ngram_range=(1, 1),\n",
    "                                 stop_words=STOP_WORDS, decode_error='replace',\n",
    "                                 encoding='utf-8', analyzer='word', tokenizer=tokenizer)\n",
    "\n",
    "\n",
    "    x_word = tfidf_word.fit_transform(X.values.astype('U'))\n",
    "    # outfile = open(\"tfidf_word_pkl\", 'wb')\n",
    "    # pickle.dump(x_word, outfile)\n",
    "    # outfile.close()\n",
    "    return x_word"
   ]
  },
  {
   "cell_type": "code",
   "execution_count": 6,
   "metadata": {},
   "outputs": [
    {
     "name": "stdout",
     "output_type": "stream",
     "text": [
      "(49976, 8)\n"
     ]
    }
   ],
   "source": [
    "#importing dataset\n",
    "\n",
    "# df = pd.read_csv(\"../Data/Corpus/AllDataTarget.csv\")\n",
    "df = pd.read_csv(\"../Fake News Dataset/Train_Test/TrainTest.csv\")\n",
    "df = df[df[\"articleID\"] != 27753]\n",
    "consistentID = set(df[\"articleID\"])\n",
    "print(df.shape)\n",
    "head = list(df)\n",
    "X = df.content"
   ]
  },
  {
   "cell_type": "code",
   "execution_count": 7,
   "metadata": {},
   "outputs": [
    {
     "name": "stdout",
     "output_type": "stream",
     "text": [
      "(49976, 72448)\n",
      "(49976, 1)\n"
     ]
    }
   ],
   "source": [
    "#calling tf-idf vectorizer\n",
    "X_word = tfidf_wordF(X)\n",
    "X = X_word\n",
    "Y = df[[\"label\"]]\n",
    "print(X.shape)\n",
    "print(Y.shape)\n",
    "X_train, X_test, y_train, y_test = train_test_split(X, Y.values.ravel(), test_size=0.3, random_state=109)"
   ]
  },
  {
   "cell_type": "markdown",
   "metadata": {},
   "source": [
    "## SVM with TF-IDF"
   ]
  },
  {
   "cell_type": "code",
   "execution_count": 8,
   "metadata": {},
   "outputs": [
    {
     "name": "stdout",
     "output_type": "stream",
     "text": [
      "Accuracy: 0.9926632428466617\n",
      "Precision: 0.9928610280119663\n",
      "Recall: 0.999657721796276\n",
      "F1-Score: 0.9962477827807341\n",
      "Confusion Matrix: [[  280   105]\n",
      " [    5 14603]]\n",
      "              precision    recall  f1-score   support\n",
      "\n",
      "           0       0.98      0.73      0.84       385\n",
      "           1       0.99      1.00      1.00     14608\n",
      "\n",
      "    accuracy                           0.99     14993\n",
      "   macro avg       0.99      0.86      0.92     14993\n",
      "weighted avg       0.99      0.99      0.99     14993\n",
      "\n"
     ]
    }
   ],
   "source": [
    "# Creating SVM Classifier\n",
    "clf = svm.SVC(kernel='linear', C=10, cache_size=7000)\n",
    "\n",
    "clf.fit(X_train, y_train)\n",
    "\n",
    "#Save Model\n",
    "# outfile = open(\"../API/model\", 'wb')\n",
    "# pickle.dump(clf, outfile)\n",
    "# outfile.close()\n",
    "\n",
    "\n",
    "y_pred = clf.predict(X_test)\n",
    "print(\"Accuracy:\", metrics.accuracy_score(y_test, y_pred))\n",
    "print(\"Precision:\", metrics.precision_score(y_test, y_pred))\n",
    "print(\"Recall:\", metrics.recall_score(y_test, y_pred))\n",
    "print(\"F1-Score:\", metrics.f1_score(y_test, y_pred))\n",
    "print(\"Confusion Matrix:\", metrics.confusion_matrix(y_test, y_pred))\n",
    "print(metrics.classification_report(y_test, y_pred))"
   ]
  },
  {
   "cell_type": "markdown",
   "metadata": {},
   "source": [
    "## LR with TF-IDF "
   ]
  },
  {
   "cell_type": "code",
   "execution_count": 9,
   "metadata": {},
   "outputs": [
    {
     "name": "stderr",
     "output_type": "stream",
     "text": [
      "C:\\ProgramData\\Anaconda3\\lib\\site-packages\\sklearn\\linear_model\\logistic.py:432: FutureWarning: Default solver will be changed to 'lbfgs' in 0.22. Specify a solver to silence this warning.\n",
      "  FutureWarning)\n"
     ]
    },
    {
     "name": "stdout",
     "output_type": "stream",
     "text": [
      "Accuracy: 0.9782565197091976\n",
      "Precision: 0.9781706173831526\n",
      "Recall: 1.0\n",
      "F1-Score: 0.9889648635840499\n",
      "Confusion Matrix: [[   59   326]\n",
      " [    0 14608]]\n",
      "              precision    recall  f1-score   support\n",
      "\n",
      "           0       1.00      0.15      0.27       385\n",
      "           1       0.98      1.00      0.99     14608\n",
      "\n",
      "    accuracy                           0.98     14993\n",
      "   macro avg       0.99      0.58      0.63     14993\n",
      "weighted avg       0.98      0.98      0.97     14993\n",
      "\n"
     ]
    }
   ],
   "source": [
    "lrclf = LogisticRegression()\n",
    "\n",
    "lrclf.fit(X_train, y_train)\n",
    "\n",
    "y_pred = lrclf.predict(X_test)\n",
    "print(\"Accuracy:\", metrics.accuracy_score(y_test, y_pred))\n",
    "print(\"Precision:\", metrics.precision_score(y_test, y_pred))\n",
    "print(\"Recall:\", metrics.recall_score(y_test, y_pred))\n",
    "print(\"F1-Score:\", metrics.f1_score(y_test, y_pred))\n",
    "print(\"Confusion Matrix:\", metrics.confusion_matrix(y_test, y_pred))\n",
    "print(metrics.classification_report(y_test, y_pred))"
   ]
  },
  {
   "cell_type": "markdown",
   "metadata": {},
   "source": [
    "## MNB with TF-IDF "
   ]
  },
  {
   "cell_type": "code",
   "execution_count": 17,
   "metadata": {},
   "outputs": [
    {
     "name": "stderr",
     "output_type": "stream",
     "text": [
      "C:\\ProgramData\\Anaconda3\\lib\\site-packages\\sklearn\\naive_bayes.py:485: UserWarning: alpha too small will result in numeric errors, setting alpha = 1.0e-10\n",
      "  'setting alpha = %.1e' % _ALPHA_MIN)\n"
     ]
    },
    {
     "name": "stdout",
     "output_type": "stream",
     "text": [
      "Alpha: 0.00 Score: 0.98459\n",
      "Alpha: 0.05 Score: 0.98459\n",
      "Alpha: 0.10 Score: 0.98459\n",
      "Alpha: 0.15 Score: 0.98459\n",
      "Alpha: 0.20 Score: 0.98459\n",
      "Alpha: 0.25 Score: 0.98459\n",
      "Alpha: 0.30 Score: 0.98459\n",
      "Alpha: 0.35 Score: 0.98459\n",
      "Alpha: 0.40 Score: 0.98459\n",
      "Alpha: 0.45 Score: 0.98459\n",
      "Alpha: 0.50 Score: 0.98459\n",
      "Alpha: 0.55 Score: 0.98459\n",
      "Alpha: 0.60 Score: 0.98459\n",
      "Alpha: 0.65 Score: 0.98459\n",
      "Alpha: 0.70 Score: 0.98459\n",
      "Alpha: 0.75 Score: 0.98459\n",
      "Alpha: 0.80 Score: 0.98459\n",
      "Alpha: 0.85 Score: 0.98459\n",
      "Alpha: 0.90 Score: 0.98459\n",
      "Alpha: 0.95 Score: 0.98459\n"
     ]
    }
   ],
   "source": [
    "# tune the hyperparameter alpha for the naive bayes classifier\n",
    "for alpha in np.arange(0,1,.05):\n",
    "    mnb_classifier_tune = MultinomialNB(alpha=alpha)\n",
    "    mnb_classifier_tune.fit(X_train, y_train)\n",
    "    pred_tune = mnb_classifier_tune.predict(X_test)\n",
    "    score = metrics.accuracy_score(y_test, y_pred)\n",
    "    print(\"Alpha: {:.2f} Score: {:.5f}\".format(alpha, score))"
   ]
  },
  {
   "cell_type": "code",
   "execution_count": 19,
   "metadata": {},
   "outputs": [
    {
     "name": "stdout",
     "output_type": "stream",
     "text": [
      "Accuracy: 0.9845928099779897\n",
      "Precision: 0.9919249982891946\n",
      "Recall: 0.9922645125958379\n",
      "F1-Score: 0.9920947263954006\n",
      "Confusion Matrix: [[  267   118]\n",
      " [  113 14495]]\n",
      "              precision    recall  f1-score   support\n",
      "\n",
      "           0       0.70      0.69      0.70       385\n",
      "           1       0.99      0.99      0.99     14608\n",
      "\n",
      "    accuracy                           0.98     14993\n",
      "   macro avg       0.85      0.84      0.85     14993\n",
      "weighted avg       0.98      0.98      0.98     14993\n",
      "\n"
     ]
    }
   ],
   "source": [
    "mnbclf = MultinomialNB(alpha = 0.01)\n",
    "\n",
    "mnbclf.fit(X_train, y_train)\n",
    "\n",
    "y_pred = mnbclf.predict(X_test)\n",
    "print(\"Accuracy:\", metrics.accuracy_score(y_test, y_pred))\n",
    "print(\"Precision:\", metrics.precision_score(y_test, y_pred))\n",
    "print(\"Recall:\", metrics.recall_score(y_test, y_pred))\n",
    "print(\"F1-Score:\", metrics.f1_score(y_test, y_pred))\n",
    "print(\"Confusion Matrix:\", metrics.confusion_matrix(y_test, y_pred))\n",
    "print(metrics.classification_report(y_test, y_pred))"
   ]
  },
  {
   "cell_type": "markdown",
   "metadata": {},
   "source": [
    "## Passive Agressive Classifier With TF-IDF Vectorizer "
   ]
  },
  {
   "cell_type": "code",
   "execution_count": 20,
   "metadata": {},
   "outputs": [
    {
     "name": "stdout",
     "output_type": "stream",
     "text": [
      "Accuracy: 0.9931301273927833\n",
      "Precision: 0.9934009116266412\n",
      "Recall: 0.9995892661555312\n",
      "F1-Score: 0.9964854812843349\n",
      "Confusion Matrix: [[  288    97]\n",
      " [    6 14602]]\n",
      "              precision    recall  f1-score   support\n",
      "\n",
      "           0       0.98      0.75      0.85       385\n",
      "           1       0.99      1.00      1.00     14608\n",
      "\n",
      "    accuracy                           0.99     14993\n",
      "   macro avg       0.99      0.87      0.92     14993\n",
      "weighted avg       0.99      0.99      0.99     14993\n",
      "\n"
     ]
    }
   ],
   "source": [
    "linearclf = PassiveAggressiveClassifier(max_iter=10)\n",
    "\n",
    "linearclf.fit(X_train, y_train)\n",
    "\n",
    "y_pred = linearclf.predict(X_test)\n",
    "print(\"Accuracy:\", metrics.accuracy_score(y_test, y_pred))\n",
    "print(\"Precision:\", metrics.precision_score(y_test, y_pred))\n",
    "print(\"Recall:\", metrics.recall_score(y_test, y_pred))\n",
    "print(\"F1-Score:\", metrics.f1_score(y_test, y_pred))\n",
    "print(\"Confusion Matrix:\", metrics.confusion_matrix(y_test, y_pred))\n",
    "print(metrics.classification_report(y_test, y_pred))"
   ]
  },
  {
   "cell_type": "markdown",
   "metadata": {},
   "source": [
    "## XGBoost Classifier With TF-IDF Vectorizer"
   ]
  },
  {
   "cell_type": "code",
   "execution_count": 21,
   "metadata": {
    "scrolled": false
   },
   "outputs": [
    {
     "name": "stderr",
     "output_type": "stream",
     "text": [
      "C:\\ProgramData\\Anaconda3\\lib\\site-packages\\xgboost\\sklearn.py:888: UserWarning: The use of label encoder in XGBClassifier is deprecated and will be removed in a future release. To remove this warning, do the following: 1) Pass option use_label_encoder=False when constructing XGBClassifier object; and 2) Encode your labels (y) as integers starting with 0, i.e. 0, 1, 2, ..., [num_class - 1].\n",
      "  warnings.warn(label_encoder_deprecation_msg, UserWarning)\n"
     ]
    },
    {
     "name": "stdout",
     "output_type": "stream",
     "text": [
      "[15:52:50] WARNING: C:/Users/Administrator/workspace/xgboost-win64_release_1.3.0/src/learner.cc:1061: Starting in XGBoost 1.3.0, the default evaluation metric used with the objective 'binary:logistic' was changed from 'error' to 'logloss'. Explicitly set eval_metric if you'd like to restore the old behavior.\n",
      "Accuracy: 0.9870606282932035\n",
      "Precision: 0.9876843957233726\n",
      "Recall: 0.9991785323110625\n",
      "F1-Score: 0.9933982168379502\n",
      "Confusion Matrix: [[  203   182]\n",
      " [   12 14596]]\n",
      "              precision    recall  f1-score   support\n",
      "\n",
      "           0       0.94      0.53      0.68       385\n",
      "           1       0.99      1.00      0.99     14608\n",
      "\n",
      "    accuracy                           0.99     14993\n",
      "   macro avg       0.97      0.76      0.84     14993\n",
      "weighted avg       0.99      0.99      0.99     14993\n",
      "\n"
     ]
    }
   ],
   "source": [
    "xgbclf = XGBClassifier()\n",
    "\n",
    "xgbclf.fit(X_train, y_train)\n",
    "\n",
    "y_pred = xgbclf.predict(X_test)\n",
    "print(\"Accuracy:\", metrics.accuracy_score(y_test, y_pred))\n",
    "print(\"Precision:\", metrics.precision_score(y_test, y_pred))\n",
    "print(\"Recall:\", metrics.recall_score(y_test, y_pred))\n",
    "print(\"F1-Score:\", metrics.f1_score(y_test, y_pred))\n",
    "print(\"Confusion Matrix:\", metrics.confusion_matrix(y_test, y_pred))\n",
    "print(metrics.classification_report(y_test, y_pred))"
   ]
  },
  {
   "cell_type": "markdown",
   "metadata": {},
   "source": [
    "## CatBoost Classifier With TF-IDF Vectorizer "
   ]
  },
  {
   "cell_type": "code",
   "execution_count": 24,
   "metadata": {},
   "outputs": [
    {
     "name": "stdout",
     "output_type": "stream",
     "text": [
      "Accuracy: 0.983925832054959\n",
      "Precision: 0.9843570898793068\n",
      "Recall: 0.9993838992332968\n",
      "F1-Score: 0.9918135806243419\n",
      "Confusion Matrix: [[  153   232]\n",
      " [    9 14599]]\n",
      "              precision    recall  f1-score   support\n",
      "\n",
      "           0       0.94      0.40      0.56       385\n",
      "           1       0.98      1.00      0.99     14608\n",
      "\n",
      "    accuracy                           0.98     14993\n",
      "   macro avg       0.96      0.70      0.78     14993\n",
      "weighted avg       0.98      0.98      0.98     14993\n",
      "\n"
     ]
    }
   ],
   "source": [
    "catclf = CatBoostClassifier(verbose=0, n_estimators=100)\n",
    "\n",
    "catclf.fit(X_train, y_train)\n",
    "\n",
    "y_pred = catclf.predict(X_test)\n",
    "print(\"Accuracy:\", metrics.accuracy_score(y_test, y_pred))\n",
    "print(\"Precision:\", metrics.precision_score(y_test, y_pred))\n",
    "print(\"Recall:\", metrics.recall_score(y_test, y_pred))\n",
    "print(\"F1-Score:\", metrics.f1_score(y_test, y_pred))\n",
    "print(\"Confusion Matrix:\", metrics.confusion_matrix(y_test, y_pred))\n",
    "print(metrics.classification_report(y_test, y_pred))"
   ]
  },
  {
   "cell_type": "markdown",
   "metadata": {},
   "source": [
    "## AdaBoost Classifier With TF-IDF Vectorizer "
   ]
  },
  {
   "cell_type": "code",
   "execution_count": 25,
   "metadata": {},
   "outputs": [
    {
     "name": "stdout",
     "output_type": "stream",
     "text": [
      "Accuracy: 0.9801907556859868\n",
      "Precision: 0.9831859004659329\n",
      "Recall: 0.9967141292442497\n",
      "F1-Score: 0.989903797124112\n",
      "Confusion Matrix: [[  136   249]\n",
      " [   48 14560]]\n",
      "              precision    recall  f1-score   support\n",
      "\n",
      "           0       0.74      0.35      0.48       385\n",
      "           1       0.98      1.00      0.99     14608\n",
      "\n",
      "    accuracy                           0.98     14993\n",
      "   macro avg       0.86      0.67      0.73     14993\n",
      "weighted avg       0.98      0.98      0.98     14993\n",
      "\n"
     ]
    }
   ],
   "source": [
    "adaclf = AdaBoostClassifier()\n",
    "\n",
    "adaclf.fit(X_train, y_train)\n",
    "\n",
    "y_pred = adaclf.predict(X_test)\n",
    "print(\"Accuracy:\", metrics.accuracy_score(y_test, y_pred))\n",
    "print(\"Precision:\", metrics.precision_score(y_test, y_pred))\n",
    "print(\"Recall:\", metrics.recall_score(y_test, y_pred))\n",
    "print(\"F1-Score:\", metrics.f1_score(y_test, y_pred))\n",
    "print(\"Confusion Matrix:\", metrics.confusion_matrix(y_test, y_pred))\n",
    "print(metrics.classification_report(y_test, y_pred))"
   ]
  },
  {
   "cell_type": "code",
   "execution_count": null,
   "metadata": {},
   "outputs": [],
   "source": []
  }
 ],
 "metadata": {
  "kernelspec": {
   "display_name": "Python 3",
   "language": "python",
   "name": "python3"
  },
  "language_info": {
   "codemirror_mode": {
    "name": "ipython",
    "version": 3
   },
   "file_extension": ".py",
   "mimetype": "text/x-python",
   "name": "python",
   "nbconvert_exporter": "python",
   "pygments_lexer": "ipython3",
   "version": "3.7.4"
  }
 },
 "nbformat": 4,
 "nbformat_minor": 2
}
